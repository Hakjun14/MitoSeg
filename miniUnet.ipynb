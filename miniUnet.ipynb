{
 "cells": [
  {
   "cell_type": "code",
   "execution_count": 19,
   "metadata": {},
   "outputs": [
    {
     "name": "stdout",
     "output_type": "stream",
     "text": [
      "Available devices  4\n",
      "Current cuda device  2\n",
      "TITAN RTX\n"
     ]
    }
   ],
   "source": [
    "import torch\n",
    "\n",
    "# 현재 Setup 되어있는 device 확인\n",
    "device = torch.device('cuda' if torch.cuda.is_available() else 'cpu')\n",
    "print ('Available devices ', torch.cuda.device_count())\n",
    "\n",
    "print ('Current cuda device ', torch.cuda.current_device())\n",
    "print(torch.cuda.get_device_name(device))"
   ]
  },
  {
   "cell_type": "code",
   "execution_count": 33,
   "metadata": {},
   "outputs": [
    {
     "name": "stdout",
     "output_type": "stream",
     "text": [
      "Current cuda device  0\n",
      "TITAN RTX\n",
      "Memory Usage:\n",
      "Allocated: 0.0 GB\n",
      "Cached:    0.0 GB\n"
     ]
    }
   ],
   "source": [
    "GPU_NUM = 0 # 원하는 GPU 번호 입력\n",
    "device = torch.device(f'cuda:{GPU_NUM}' if torch.cuda.is_available() else 'cpu')\n",
    "torch.cuda.set_device(device) # change allocation of current GPU\n",
    "\n",
    " \n",
    "print ('Current cuda device ', torch.cuda.current_device()) # check\n",
    "\n",
    "# Additional Infos\n",
    "if device.type == 'cuda':\n",
    "    print(torch.cuda.get_device_name(GPU_NUM))\n",
    "    print('Memory Usage:')\n",
    "    print('Allocated:', round(torch.cuda.memory_allocated(GPU_NUM)/1024**3,1), 'GB')\n",
    "    print('Cached:   ', round(torch.cuda.memory_cached(GPU_NUM)/1024**3,1), 'GB')"
   ]
  },
  {
   "cell_type": "code",
   "execution_count": 21,
   "metadata": {},
   "outputs": [],
   "source": [
    "import numpy as np\n",
    "import os\n",
    "from PIL import Image\n",
    "import matplotlib.pyplot as plt"
   ]
  },
  {
   "cell_type": "code",
   "execution_count": 22,
   "metadata": {},
   "outputs": [],
   "source": [
    "import torch\n",
    "import torch.nn as nn\n",
    "from torch.utils.data import DataLoader\n",
    "from torch.utils.tensorboard import SummaryWriter\n",
    "from torchvision import  transforms, datasets"
   ]
  },
  {
   "cell_type": "code",
   "execution_count": 42,
   "metadata": {},
   "outputs": [],
   "source": [
    "class miniUNet(nn.Module):\n",
    "    def __init__(self):\n",
    "        super(miniUNet, self).__init__()\n",
    "        \n",
    "\n",
    "        def CBR2d(in_channels, out_channels, kernel_size=3, stride=1, padding=1, bias=True):\n",
    "            layers = []\n",
    "            layers += [nn.Conv2d(in_channels=in_channels, out_channels=out_channels,\n",
    "                                 kernel_size=kernel_size, stride=stride, padding=padding,\n",
    "                                 bias=bias)]\n",
    "            layers += [nn.BatchNorm2d(num_features=out_channels)]\n",
    "            layers += [nn.ReLU()]\n",
    "\n",
    "            cbr = nn.Sequential(*layers) # *으로 list unpacking \n",
    "\n",
    "            return cbr\n",
    "        \n",
    "        \n",
    "        #Define layers\n",
    "        \n",
    "        #Contracting path\n",
    "        self.enc1_1 = CBR2d(in_channels=1, out_channels=64)\n",
    "        self.enc1_2 = CBR2d(in_channels=64, out_channels=64)\n",
    "        self.pool1 = nn.MaxPool2d(kernel_size=2)\n",
    "        \n",
    "        self.enc2_1 = CBR2d(in_channels=64, out_channels=128)\n",
    "        self.enc2_2 = CBR2d(in_channels=128, out_channels=128)\n",
    "        \n",
    "        self.unpool1 = nn.ConvTranspose2d(in_channels=128, out_channels=64,\n",
    "                                         kernel_size=2, stride=2, padding=0, bias=True)\n",
    "        self.dec1_2 = CBR2d(in_channels=128, out_channels=64)\n",
    "        self.dec1_1 = CBR2d(in_channels=64, out_channels=64)\n",
    "        \n",
    "        self.conv1 = nn.Conv2d(in_channels=64, out_channels=64,\n",
    "                                 kernel_size=1, stride=1, padding=0, bias=True)\n",
    "        \n",
    "        self.conv1a = nn.Conv2d(in_channels=64, out_channels=16,\n",
    "                                 kernel_size=1, stride=1, padding=0, bias=True)\n",
    "        \n",
    "        self.conv1b = nn.Conv2d(in_channels=16, out_channels=1,\n",
    "                                 kernel_size=1, stride=1, padding=0, bias=True)\n",
    "        \n",
    "        self.out_1 = nn.BatchNorm2d(num_features=1)\n",
    "        self.out = nn.Sigmoid()\n",
    "        \n",
    "    #forwarding\n",
    "    def forward(self, x):\n",
    "        enc1_1 = self.enc1_1(x)\n",
    "        enc1_2 = self.enc1_2(enc1_1)\n",
    "        pool1 = self.pool1(enc1_2)\n",
    "        enc2_1 = self.enc2_1(pool1)\n",
    "        enc2_2 = self.enc2_2(enc2_1)\n",
    "\n",
    "        unpool1 = self.unpool1(enc2_2)\n",
    "        #concatenate croped_enc1_2\n",
    "        crop1 = enc1_2#[:, :, 88:480, 88:480]\n",
    "        refine1 = torch.cat((crop1, unpool1), dim=1)\n",
    "        dec1_2 = self.dec1_2(refine1)\n",
    "        dec1_1 = self.dec1_1(dec1_2)\n",
    "        \n",
    "        conv1 = self.conv1(dec1_1)\n",
    "        conv1a = self.conv1a(conv1)\n",
    "        conv1b = self.conv1b(conv1a)\n",
    "        out_1 = self.out_1(conv1b)\n",
    "        out = self.out(out_1)\n",
    "\n",
    "        return out\n",
    "        "
   ]
  },
  {
   "cell_type": "code",
   "execution_count": 29,
   "metadata": {},
   "outputs": [],
   "source": [
    "class Dataset(torch.utils.data.Dataset):\n",
    "    def __init__(self, data_dir, transform=None):\n",
    "        self.data_dir = data_dir\n",
    "        self.transform = transform\n",
    "        \n",
    "        lst_data = os.listdir(self.data_dir)\n",
    "        \n",
    "        # 문자열 검사해서 'label'이 있으면 True \n",
    "        # 문자열 검사해서 'train'이 있으면 True\n",
    "        lst_label = [f for f in lst_data if f.startswith('label_')] \n",
    "        lst_input = [f for f in lst_data if f.startswith('train')] \n",
    "        \n",
    "        lst_label.sort()\n",
    "        lst_input.sort()\n",
    "\n",
    "        self.lst_label = lst_label\n",
    "        self.lst_input = lst_input\n",
    "    \n",
    "    def __len__(self):\n",
    "        return len(self.lst_label)\n",
    "    \n",
    "    # 데이터 load 파트\n",
    "    def __getitem__(self, index):\n",
    "\n",
    "        label_img = Image.open(os.path.join(self.data_dir, self.lst_label[index]))\n",
    "        label = np.array(label_img.getdata())\n",
    "        label = np.reshape(label, (512,512))\n",
    "        \n",
    "        input_img = Image.open(os.path.join(self.data_dir, self.lst_input[index]))\n",
    "        inputs = np.array(input_img.getdata())\n",
    "        inputs = np.reshape(inputs, (512,512))\n",
    "    \n",
    "        #label = np.load(os.path.join(self.data_dir, self.lst_label[index]), allow_pickle=True)\n",
    "        #inputs = np.load(os.path.join(self.data_dir, self.lst_input[index]), allow_pickle=True)\n",
    "        \n",
    "        \n",
    "        # normalize, 이미지는 0~255 값을 가지고 있어 이를 0~1사이로 scaling\n",
    "        #label = label/255.0, label은 어차피 1, input은 최대값을 기준으로 normalize\n",
    "        label = label/np.max(label)\n",
    "        inputs = inputs/np.max(inputs)\n",
    "        label = label.astype(np.float32)\n",
    "        inputs = inputs.astype(np.float32) \n",
    "\n",
    "        \n",
    "        # 인풋 데이터 차원이 2이면, 채널 축을 추가해줘야한다. \n",
    "        # 파이토치 인풋 format (batch, 채널, 행, 열)\n",
    "        \n",
    "        if label.ndim == 2:\n",
    "            label = label[:,:,np.newaxis]    #파이토치 인풋 포맷을 보고도 맨 뒤에 새로운 축을 생성하는 이유는 다음 class에서 확인하기\n",
    "        if inputs.ndim == 2:  \n",
    "            inputs = inputs[:,:,np.newaxis] \n",
    "        \n",
    "        data = {'input':inputs, 'label':label}\n",
    "\n",
    "        # transform에 할당된 class 들이 호출되면서 __call__ 함수 실행\n",
    "        if self.transform:\n",
    "            data = self.transform(data)\n",
    "    \n",
    "        return data"
   ]
  },
  {
   "cell_type": "code",
   "execution_count": 30,
   "metadata": {},
   "outputs": [],
   "source": [
    "class ToTensor(object):\n",
    "    def __call__(self, data):\n",
    "        label, inputs = data['label'], data['input']\n",
    "   \n",
    "        # numpy와 tensor의 배열 차원 순서가 다르다. \n",
    "        # numpy : (행, 열, 채널)\n",
    "        # tensor : (채널, 행, 열)\n",
    "        # 따라서 위 순서에 맞춰 transpose\n",
    "        \n",
    "        label = label.transpose((2, 0, 1)).astype(np.float32) \n",
    "        inputs = inputs.transpose((2, 0, 1)).astype(np.float32)\n",
    "        \n",
    "        # 이후 np를 tensor로 바꾸는 코드는 다음과 같이 간단하다.\n",
    "        data = {'label': torch.from_numpy(label), 'input': torch.from_numpy(inputs)}\n",
    "\n",
    "        return data"
   ]
  },
  {
   "cell_type": "code",
   "execution_count": 48,
   "metadata": {},
   "outputs": [],
   "source": [
    "## 하이퍼 파라미터 설정\n",
    "lr = 1e-3\n",
    "batch_size = 4\n",
    "num_epoch = 10\n",
    "\n",
    "data_dir = './data'\n",
    "ckpt_dir = './ckpt0324_mini_!'\n",
    "log_dir = './log'\n",
    "res_dir = './result'\n",
    "\n",
    "patience = 300\n",
    "\n",
    "device = torch.device('cuda' if torch.cuda.is_available() else 'cpu')"
   ]
  },
  {
   "cell_type": "code",
   "execution_count": 49,
   "metadata": {},
   "outputs": [],
   "source": [
    "# transform 적용해서 데이터 셋 불러오기\n",
    "#transform = transforms.Compose(transforms.Normalize(0.5, 0.5), ToTensor())\n",
    "dataset_train = Dataset(data_dir=os.path.join(data_dir,'train'),transform=ToTensor())\n",
    "\n",
    "# 불러온 데이터셋, 배치 size줘서 DataLoader 해주기\n",
    "loader_train = DataLoader(dataset_train, batch_size = batch_size, shuffle=True)\n",
    "\n",
    "# val set도 동일하게 진행\n",
    "dataset_val = Dataset(data_dir=os.path.join(data_dir,'val'),transform = ToTensor())\n",
    "loader_val = DataLoader(dataset_val, batch_size=1 , shuffle=True)\n",
    "\n",
    "# 네트워크 불러오기\n",
    "net = miniUNet().to(device) # device : cpu or gpu\n",
    "\n",
    "# loss 정의\n",
    "fn_loss = nn.MSELoss().to(device)\n",
    "\n",
    "# Optimizer 정의\n",
    "optim = torch.optim.Adam(net.parameters(), lr = lr ) \n",
    "\n",
    "# 기타 variables 설정\n",
    "num_train = len(dataset_train)\n",
    "num_val = len(dataset_val)\n",
    "\n",
    "num_train_for_epoch = np.ceil(num_train/batch_size) # np.ceil : 소수점 반올림\n",
    "num_val_for_epoch = np.ceil(num_val/batch_size)\n",
    "\n",
    "# 기타 function 설정\n",
    "fn_tonumpy = lambda x : x.to('cpu').detach().numpy().transpose(0,2,3,1) # device 위에 올라간 텐서를 detach 한 뒤 numpy로 변환\n",
    "fn_denorm = lambda x, mean, std : (x * std) + mean \n",
    "fn_classifier = lambda x :  1.0 * (x > 0.5)  # threshold 0.5 기준으로 indicator function으로 classifier 구현\n",
    "\n",
    "# Tensorbord\n",
    "writer_train = SummaryWriter(log_dir = os.path.join(log_dir,'train'))\n",
    "writer_val = SummaryWriter(log_dir = os.path.join(log_dir,'val'))"
   ]
  },
  {
   "cell_type": "code",
   "execution_count": 50,
   "metadata": {},
   "outputs": [],
   "source": [
    "class EarlyStopping:\n",
    "    \"\"\"주어진 patience 이후로 validation loss가 개선되지 않으면 학습을 조기 중지\"\"\"\n",
    "    def __init__(self, patience=7, verbose=False, delta=0, path='checkpoint.pt'):\n",
    "        \"\"\"\n",
    "        Args:\n",
    "            patience (int): validation loss가 개선된 후 기다리는 기간\n",
    "                            Default: 7\n",
    "            verbose (bool): True일 경우 각 validation loss의 개선 사항 메세지 출력\n",
    "                            Default: False\n",
    "            delta (float): 개선되었다고 인정되는 monitered quantity의 최소 변화\n",
    "                            Default: 0\n",
    "            path (str): checkpoint저장 경로\n",
    "                            Default: 'checkpoint.pt'\n",
    "        \"\"\"\n",
    "        self.patience = patience\n",
    "        self.verbose = verbose\n",
    "        self.counter = 0\n",
    "        self.best_score = None\n",
    "        self.early_stop = False\n",
    "        self.val_loss_min = np.Inf\n",
    "        self.delta = delta\n",
    "        self.path = path\n",
    "\n",
    "    def __call__(self, val_loss, model):\n",
    "\n",
    "        score = -val_loss\n",
    "\n",
    "        if self.best_score is None:\n",
    "            self.best_score = score\n",
    "            self.save_checkpoint(val_loss, model)\n",
    "        elif score < self.best_score + self.delta:\n",
    "            self.counter += 1\n",
    "            print(f'EarlyStopping counter: {self.counter} out of {self.patience}')\n",
    "            if self.counter >= self.patience:\n",
    "                self.early_stop = True\n",
    "        else:\n",
    "            self.best_score = score\n",
    "            self.save_checkpoint(val_loss, model)\n",
    "            self.counter = 0\n",
    "\n",
    "    def save_checkpoint(self, val_loss, model):\n",
    "        '''validation loss가 감소하면 모델을 저장한다.'''\n",
    "        if self.verbose:\n",
    "            print(f'Validation loss decreased ({self.val_loss_min:.6f} --> {val_loss:.6f}).  Saving model ...')\n",
    "        torch.save({'net':net.state_dict()},'%s'%(self.path))\n",
    "        self.val_loss_min = val_loss"
   ]
  },
  {
   "cell_type": "code",
   "execution_count": 51,
   "metadata": {},
   "outputs": [
    {
     "name": "stdout",
     "output_type": "stream",
     "text": [
      "0.29464662075042725\n",
      "0.25297021865844727\n",
      "0.23446135222911835\n",
      "0.2338094413280487\n",
      "valid : epoch 0001 / 0010 | Batch 0001 \\ 1.000000 | Loss 0.993866\n",
      "valid : epoch 0001 / 0010 | Batch 0002 \\ 1.000000 | Loss 0.995173\n",
      "Validation loss decreased (inf --> 0.995173).  Saving model ...\n",
      "0.2342710942029953\n",
      "0.2311885952949524\n",
      "0.23218148946762085\n",
      "0.23354367911815643\n",
      "valid : epoch 0002 / 0010 | Batch 0001 \\ 1.000000 | Loss 0.996479\n",
      "valid : epoch 0002 / 0010 | Batch 0002 \\ 1.000000 | Loss 0.995173\n",
      "Validation loss decreased (0.995173 --> 0.995173).  Saving model ...\n",
      "0.2303600311279297\n",
      "0.22910600900650024\n",
      "0.22990182042121887\n",
      "0.23149333894252777\n",
      "valid : epoch 0003 / 0010 | Batch 0001 \\ 1.000000 | Loss 0.010784\n",
      "valid : epoch 0003 / 0010 | Batch 0002 \\ 1.000000 | Loss 0.041553\n",
      "Validation loss decreased (0.995173 --> 0.041553).  Saving model ...\n",
      "0.22812339663505554\n",
      "0.23011642694473267\n",
      "0.22740675508975983\n",
      "0.22988776862621307\n",
      "valid : epoch 0004 / 0010 | Batch 0001 \\ 1.000000 | Loss 0.057755\n",
      "valid : epoch 0004 / 0010 | Batch 0002 \\ 1.000000 | Loss 0.032518\n",
      "Validation loss decreased (0.041553 --> 0.032518).  Saving model ...\n",
      "0.22758260369300842\n",
      "0.22819951176643372\n",
      "0.22633621096611023\n",
      "0.23155711591243744\n",
      "valid : epoch 0005 / 0010 | Batch 0001 \\ 1.000000 | Loss 0.052029\n",
      "valid : epoch 0005 / 0010 | Batch 0002 \\ 1.000000 | Loss 0.029240\n",
      "Validation loss decreased (0.032518 --> 0.029240).  Saving model ...\n",
      "0.22565703094005585\n",
      "0.22590667009353638\n",
      "0.22473497688770294\n",
      "0.22450211644172668\n",
      "valid : epoch 0006 / 0010 | Batch 0001 \\ 1.000000 | Loss 0.006180\n",
      "valid : epoch 0006 / 0010 | Batch 0002 \\ 1.000000 | Loss 0.028051\n",
      "Validation loss decreased (0.029240 --> 0.028051).  Saving model ...\n",
      "0.22454288601875305\n",
      "0.22406525909900665\n",
      "0.22571761906147003\n",
      "0.22234424948692322\n",
      "valid : epoch 0007 / 0010 | Batch 0001 \\ 1.000000 | Loss 0.049767\n",
      "valid : epoch 0007 / 0010 | Batch 0002 \\ 1.000000 | Loss 0.028013\n",
      "Validation loss decreased (0.028051 --> 0.028013).  Saving model ...\n",
      "0.22401577234268188\n",
      "0.2217787802219391\n",
      "0.22911450266838074\n",
      "0.2231225222349167\n",
      "valid : epoch 0008 / 0010 | Batch 0001 \\ 1.000000 | Loss 0.006126\n",
      "valid : epoch 0008 / 0010 | Batch 0002 \\ 1.000000 | Loss 0.027559\n",
      "Validation loss decreased (0.028013 --> 0.027559).  Saving model ...\n",
      "0.22503721714019775\n",
      "0.2216232568025589\n",
      "0.2218887209892273\n",
      "0.2252732515335083\n",
      "valid : epoch 0009 / 0010 | Batch 0001 \\ 1.000000 | Loss 0.006897\n",
      "valid : epoch 0009 / 0010 | Batch 0002 \\ 1.000000 | Loss 0.030497\n",
      "EarlyStopping counter: 1 out of 300\n",
      "0.22103413939476013\n",
      "0.22373993694782257\n",
      "0.2200569361448288\n",
      "0.2215782105922699\n",
      "valid : epoch 0010 / 0010 | Batch 0001 \\ 1.000000 | Loss 0.060047\n",
      "valid : epoch 0010 / 0010 | Batch 0002 \\ 1.000000 | Loss 0.034172\n",
      "EarlyStopping counter: 2 out of 300\n"
     ]
    }
   ],
   "source": [
    "# 네트워크 저장하기\n",
    "# train을 마친 네트워크 저장 \n",
    "# net : 네트워크 파라미터, optim  두개를 dict 형태로 저장\n",
    "def save(ckpt_dir,net,optim,epoch):\n",
    "    if not os.path.exists(ckpt_dir):\n",
    "        os.makedirs(ckpt_dir)\n",
    "\n",
    "    torch.save({'net':net.state_dict(),'optim':optim.state_dict()},'%s/model_epoch%d.pth'%(ckpt_dir,epoch), _use_new_zipfile_serialization=False)\n",
    "\n",
    "# 네트워크 불러오기\n",
    "def load(ckpt_dir,net,optim):\n",
    "    if not os.path.exists(ckpt_dir): # 저장된 네트워크가 없다면 인풋을 그대로 반환\n",
    "        epoch = 0\n",
    "        return net, optim, epoch \n",
    "    \n",
    "    ckpt_lst = os.listdir(ckpt_dir) # ckpt_dir 아래 있는 모든 파일 리스트를 받아온다\n",
    "    ckpt_lst.sort(key = lambda f : int(''.join(filter(str,isdigit,f))))\n",
    "\n",
    "    dict_model = torch.load('%s/%s' % (ckpt_dir,ckpt_lst[-1]))\n",
    "\n",
    "    net.load_state_dict(dict_model['net'])\n",
    "    optim.load_state_dict(dict_model['optim'])\n",
    "    epoch = int(ckpt_lst[-1].split('epoch')[1].split('.pth')[0])\n",
    "\n",
    "    return net,optim,epoch\n",
    "\n",
    "early_stopping = EarlyStopping(patience = patience, verbose = True)\n",
    "\n",
    "# 네트워크 학습시키기\n",
    "start_epoch = 0\n",
    "net, optim, start_epoch = load(ckpt_dir = ckpt_dir, net = net, optim = optim) # 저장된 네트워크 불러오기\n",
    "\n",
    "for epoch in range(start_epoch+1,num_epoch +1):\n",
    "    net.train()\n",
    "    loss_arr = []\n",
    "\n",
    "    for batch, data in enumerate(loader_train,1): # 1은 뭐니 > index start point\n",
    "        # forward\n",
    "        label = data['label'].to(device)   # 데이터 device로 올리기  \n",
    "        inputs = data['input'].to(device)\n",
    "        output = net(inputs) \n",
    "        #plt.imshow(index[0,0,:,:], cmap='gray')\n",
    "\n",
    "        # backward\n",
    "        optim.zero_grad()  # gradient 초기화\n",
    "        loss = fn_loss(output, label)  # output과 label 사이의 loss 계산\n",
    "        loss.backward() # gradient backpropagation\n",
    "        optim.step() # backpropa 된 gradient를 이용해서 각 layer의 parameters update\n",
    "\n",
    "        # save loss\n",
    "        print(loss.item())\n",
    "        loss_arr += [loss.item()]\n",
    "\n",
    "        # tensorbord에 결과값들 저정하기\n",
    "        label = fn_tonumpy(label)\n",
    "        inputs = fn_tonumpy(fn_denorm(inputs,0.5,0.5))\n",
    "        output = fn_tonumpy(fn_classifier(output))\n",
    "\n",
    "        writer_train.add_image('label', label, num_train_for_epoch * (epoch - 1) + batch, dataformats='NHWC')\n",
    "        writer_train.add_image('input', inputs, num_train_for_epoch * (epoch - 1) + batch, dataformats='NHWC')\n",
    "        writer_train.add_image('output', output, num_train_for_epoch * (epoch - 1) + batch, dataformats='NHWC')\n",
    "\n",
    "    writer_train.add_scalar('loss', np.mean(loss_arr), epoch)\n",
    "\n",
    "    \n",
    "    # validation\n",
    "    with torch.no_grad(): # validation 이기 때문에 backpropa 진행 x, 학습된 네트워크가 정답과 얼마나 가까운지 loss만 계산\n",
    "        net.eval() # 네트워크를 evaluation 용으로 선언\n",
    "        loss_arr = []\n",
    "\n",
    "        for batch, data in enumerate(loader_val,1):\n",
    "            # forward\n",
    "            label = data['label'].to(device)\n",
    "            inputs = data['input'].to(device)\n",
    "            output = net(inputs)\n",
    "\n",
    "            # loss \n",
    "            loss = fn_loss(fn_classifier(output),label)\n",
    "            loss_arr += [loss.item()]     \n",
    "            print('valid : epoch %04d / %04d | Batch %04d \\ %f | Loss %f'%(epoch,num_epoch,batch,num_val_for_epoch,np.mean(loss_arr)))\n",
    "\n",
    "            # Tensorboard 저장하기\n",
    "            label = fn_tonumpy(label)\n",
    "            inputs = fn_tonumpy(fn_denorm(inputs, mean=0.5, std=0.5))\n",
    "            output = fn_tonumpy(fn_classifier(output))\n",
    "\n",
    "            writer_val.add_image('label', label, num_val_for_epoch * (epoch - 1) + batch, dataformats='NHWC')\n",
    "            writer_val.add_image('input', inputs, num_val_for_epoch * (epoch - 1) + batch, dataformats='NHWC')\n",
    "            writer_val.add_image('output', output, num_val_for_epoch * (epoch - 1) + batch, dataformats='NHWC')\n",
    "\n",
    "        writer_val.add_scalar('loss', np.mean(loss_arr), epoch)\n",
    "        \n",
    "        early_stopping(np.mean(loss_arr), net)\n",
    "\n",
    "        if early_stopping.early_stop:\n",
    "            print(\"Early stopping\")\n",
    "            break\n",
    "            \n",
    "        # epoch이 끝날때 마다 네트워크 저장\n",
    "        save(ckpt_dir=ckpt_dir, net = net, optim = optim, epoch = epoch)\n",
    "\n",
    "writer_train.close()\n",
    "writer_val.close()"
   ]
  },
  {
   "cell_type": "markdown",
   "metadata": {},
   "source": [
    "#Failed to interpret file './data/train/label_16_03.tif' as a pickle\n",
    "#무슨 뜻인지 1시간 정도 고민했는데, image file이 numpy형태로 변환이 안돼서 그런게 아닐까하는 생각을 했다.\n",
    "#transform이 잘 안되고 있다. tif 파일을 넘파이 배열로 저장시켜야 하는데 그게 안되기 때문에 np.load가 안되고 있는 상황\n",
    "#transform 은 이상 없었음. 파일을 넘파이로 바꿔주니 잘 넘어감\n",
    "#넘어는 가는데 input size를 (1,512,512)로 설정해서 train을 하고자 하였지만 들어가는 size가 (4,1,512,512)가 된다. 이유 확인하자\n",
    "#input format은 이게 맞다. NotImplementedError가 나온건 내가 forward 메소드를 __init__안에다 정의해서 그렇다. \n",
    "#그러나 이젠 다른 에러가 나타났다. 맙소사\n",
    "#뭐였더라, crop 이 안됐었는데 nn.module 내에서 transforms.CenterCrop을 정의했던게 문제였다.\n",
    "#train은 성공, \n",
    "#cuda0 이면 tensor -> numpy 로 전환할 때 >>> x.detach().cpu().numpy() 를 해야 바뀐다. 쿠다 아니면 x.numpy()바로 가능"
   ]
  },
  {
   "cell_type": "code",
   "execution_count": 53,
   "metadata": {},
   "outputs": [
    {
     "name": "stdout",
     "output_type": "stream",
     "text": [
      "loss is 0.061733 \n",
      " accuracy is 0.938267 \n"
     ]
    },
    {
     "data": {
      "image/png": "[encoded data removed]",
      "text/plain": [
       "<Figure size 432x288 with 1 Axes>"
      ]
     },
     "metadata": {
      "needs_background": "light"
     },
     "output_type": "display_data"
    },
    {
     "name": "stdout",
     "output_type": "stream",
     "text": [
      "loss is 0.026802 \n",
      " accuracy is 0.973198 \n"
     ]
    },
    {
     "data": {
      "image/png": "[encoded data removed]",
      "text/plain": [
       "<Figure size 432x288 with 1 Axes>"
      ]
     },
     "metadata": {
      "needs_background": "light"
     },
     "output_type": "display_data"
    },
    {
     "name": "stdout",
     "output_type": "stream",
     "text": [
      "loss is 0.120518 \n",
      " accuracy is 0.879482 \n"
     ]
    },
    {
     "data": {
      "image/png": "[encoded data removed]",
      "text/plain": [
       "<Figure size 432x288 with 1 Axes>"
      ]
     },
     "metadata": {
      "needs_background": "light"
     },
     "output_type": "display_data"
    },
    {
     "name": "stdout",
     "output_type": "stream",
     "text": [
      "loss is 0.010513 \n",
      " accuracy is 0.989487 \n"
     ]
    },
    {
     "data": {
      "image/png": "[encoded data removed]",
      "text/plain": [
       "<Figure size 432x288 with 1 Axes>"
      ]
     },
     "metadata": {
      "needs_background": "light"
     },
     "output_type": "display_data"
    }
   ],
   "source": [
    "#Let's test\n",
    "dict_model = torch.load('%s/%s' % (ckpt_dir,'model_epoch10.pth'))\n",
    "\n",
    "net.load_state_dict(dict_model['net'])\n",
    "cnt = 1\n",
    "# test set도 동일하게 진행\n",
    "dataset_test = Dataset(data_dir=os.path.join(data_dir,'test'),transform = ToTensor())\n",
    "loader_test = DataLoader(dataset_test, batch_size=1 , shuffle=False)\n",
    "\n",
    "for batch, data in enumerate(loader_test,1):\n",
    "    # forward\n",
    "    label = data['label'].to(device)\n",
    "    inputs = data['input'].to(device)\n",
    "    output = net(inputs)\n",
    "    loss = fn_loss(fn_classifier(output),label)\n",
    "    acc = (fn_classifier(output) == label).float().sum()\n",
    "    print(\"loss is %f \\n accuracy is %f \" %(loss,acc/(512*512)))\n",
    "    output = fn_tonumpy(fn_classifier(output))\n",
    "    img = Image.fromarray(np.squeeze(output))\n",
    "    img.save('%s/%s/result%d.tif' %(data_dir,res_dir,cnt))\n",
    "    cnt += 1\n",
    "    plt.imshow(np.squeeze(output))#, interpolation='nearest')\n",
    "    plt.show()"
   ]
  },
  {
   "cell_type": "code",
   "execution_count": 54,
   "metadata": {},
   "outputs": [],
   "source": [
    "torch.cuda.empty_cache()"
   ]
  },
  {
   "cell_type": "code",
   "execution_count": 47,
   "metadata": {},
   "outputs": [
    {
     "data": {
      "text/plain": [
       "408803"
      ]
     },
     "execution_count": 47,
     "metadata": {},
     "output_type": "execute_result"
    }
   ],
   "source": [
    "def count_parameters(model):\n",
    "    return sum(p.numel() for p in model.parameters() if p.requires_grad)\n",
    "\n",
    "count_parameters(net)"
   ]
  },
  {
   "cell_type": "code",
   "execution_count": 46,
   "metadata": {},
   "outputs": [
    {
     "name": "stdout",
     "output_type": "stream",
     "text": [
      "miniUNet(\n",
      "  (enc1_1): Sequential(\n",
      "    (0): Conv2d(1, 64, kernel_size=(3, 3), stride=(1, 1), padding=(1, 1))\n",
      "    (1): BatchNorm2d(64, eps=1e-05, momentum=0.1, affine=True, track_running_stats=True)\n",
      "    (2): ReLU()\n",
      "  )\n",
      "  (enc1_2): Sequential(\n",
      "    (0): Conv2d(64, 64, kernel_size=(3, 3), stride=(1, 1), padding=(1, 1))\n",
      "    (1): BatchNorm2d(64, eps=1e-05, momentum=0.1, affine=True, track_running_stats=True)\n",
      "    (2): ReLU()\n",
      "  )\n",
      "  (pool1): MaxPool2d(kernel_size=2, stride=2, padding=0, dilation=1, ceil_mode=False)\n",
      "  (enc2_1): Sequential(\n",
      "    (0): Conv2d(64, 128, kernel_size=(3, 3), stride=(1, 1), padding=(1, 1))\n",
      "    (1): BatchNorm2d(128, eps=1e-05, momentum=0.1, affine=True, track_running_stats=True)\n",
      "    (2): ReLU()\n",
      "  )\n",
      "  (enc2_2): Sequential(\n",
      "    (0): Conv2d(128, 128, kernel_size=(3, 3), stride=(1, 1), padding=(1, 1))\n",
      "    (1): BatchNorm2d(128, eps=1e-05, momentum=0.1, affine=True, track_running_stats=True)\n",
      "    (2): ReLU()\n",
      "  )\n",
      "  (unpool1): ConvTranspose2d(128, 64, kernel_size=(2, 2), stride=(2, 2))\n",
      "  (dec1_2): Sequential(\n",
      "    (0): Conv2d(128, 64, kernel_size=(3, 3), stride=(1, 1), padding=(1, 1))\n",
      "    (1): BatchNorm2d(64, eps=1e-05, momentum=0.1, affine=True, track_running_stats=True)\n",
      "    (2): ReLU()\n",
      "  )\n",
      "  (dec1_1): Sequential(\n",
      "    (0): Conv2d(64, 64, kernel_size=(3, 3), stride=(1, 1), padding=(1, 1))\n",
      "    (1): BatchNorm2d(64, eps=1e-05, momentum=0.1, affine=True, track_running_stats=True)\n",
      "    (2): ReLU()\n",
      "  )\n",
      "  (conv1): Conv2d(64, 64, kernel_size=(1, 1), stride=(1, 1))\n",
      "  (conv1a): Conv2d(64, 16, kernel_size=(1, 1), stride=(1, 1))\n",
      "  (conv1b): Conv2d(16, 1, kernel_size=(1, 1), stride=(1, 1))\n",
      "  (out_1): BatchNorm2d(1, eps=1e-05, momentum=0.1, affine=True, track_running_stats=True)\n",
      "  (out): Sigmoid()\n",
      ")\n"
     ]
    }
   ],
   "source": [
    "print(net)"
   ]
  },
  {
   "cell_type": "code",
   "execution_count": null,
   "metadata": {},
   "outputs": [],
   "source": []
  }
 ],
 "metadata": {
  "kernelspec": {
   "display_name": "Python 3",
   "language": "python",
   "name": "python3"
  },
  "language_info": {
   "codemirror_mode": {
    "name": "ipython",
    "version": 3
   },
   "file_extension": ".py",
   "mimetype": "text/x-python",
   "name": "python",
   "nbconvert_exporter": "python",
   "pygments_lexer": "ipython3",
   "version": "3.7.7"
  }
 },
 "nbformat": 4,
 "nbformat_minor": 4
}
